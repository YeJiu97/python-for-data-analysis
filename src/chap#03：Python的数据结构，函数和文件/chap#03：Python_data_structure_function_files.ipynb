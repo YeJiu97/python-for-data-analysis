{
 "cells": [
  {
   "cell_type": "markdown",
   "id": "c35aa39b-f1cb-450d-a839-d3b511c04a12",
   "metadata": {},
   "source": [
    "# 数据结构与序列"
   ]
  },
  {
   "cell_type": "markdown",
   "id": "3aab77a6-f063-452d-8ff4-cc46f51dd3e5",
   "metadata": {},
   "source": [
    "## 元组"
   ]
  },
  {
   "cell_type": "code",
   "execution_count": null,
   "id": "8b4de700-0c82-4bc7-9d1c-ab59c3e95560",
   "metadata": {},
   "outputs": [],
   "source": [
    "# 元组无法被改变，所以长度固定，内部对象固定\n",
    "tup = (2, 3, 4)"
   ]
  },
  {
   "cell_type": "code",
   "execution_count": null,
   "id": "1d97b4b9-eb0f-48ec-88f7-a3737b22f4da",
   "metadata": {},
   "outputs": [],
   "source": [
    "type(tup)"
   ]
  },
  {
   "cell_type": "code",
   "execution_count": null,
   "id": "05f83a62-ecf0-439d-a6ea-85ef1609032d",
   "metadata": {},
   "outputs": [],
   "source": [
    "# 尝试进行改变，但是会报错\n",
    "try:\n",
    "    tup.add(123)\n",
    "except:\n",
    "    print(\"元组无法被改变\")"
   ]
  },
  {
   "cell_type": "markdown",
   "id": "0780204f-f00d-4d08-afb6-d1a4d7ee5409",
   "metadata": {},
   "source": [
    "也可以省略掉括号来进行创建，但是建议不要这么做："
   ]
  },
  {
   "cell_type": "code",
   "execution_count": null,
   "id": "d8760b3a-aa43-4962-94b3-1b630ab21b8f",
   "metadata": {},
   "outputs": [],
   "source": [
    "tup = 1, 2, 3"
   ]
  },
  {
   "cell_type": "code",
   "execution_count": null,
   "id": "a83ab49f-9a2d-40b9-b1d2-db1f36c2eccd",
   "metadata": {},
   "outputs": [],
   "source": [
    "tup"
   ]
  },
  {
   "cell_type": "markdown",
   "id": "0e4989d6-faaf-43f7-a9a9-f7c57d875c74",
   "metadata": {},
   "source": [
    "可以使用tuple()来将任何可以迭代的对象转换为元组："
   ]
  },
  {
   "cell_type": "code",
   "execution_count": null,
   "id": "7941f9aa-01be-4d6c-ad5f-23e458bb3d16",
   "metadata": {},
   "outputs": [],
   "source": [
    "num_list = [1, 2, 3, 4, 5]"
   ]
  },
  {
   "cell_type": "code",
   "execution_count": null,
   "id": "411daa34-dfba-428c-9dc0-a53832f6d4ab",
   "metadata": {},
   "outputs": [],
   "source": [
    "num_list_to_tup = tuple(num_list)"
   ]
  },
  {
   "cell_type": "code",
   "execution_count": null,
   "id": "24ea4d78-eabf-4821-be02-913527163934",
   "metadata": {},
   "outputs": [],
   "source": [
    "num_list_to_tup"
   ]
  },
  {
   "cell_type": "code",
   "execution_count": null,
   "id": "ceb788d0-238c-4fa4-b0e4-0baf796c181a",
   "metadata": {},
   "outputs": [],
   "source": [
    "# 还有字符串转换为元组\n",
    "tuple(\"abc def\")"
   ]
  },
  {
   "cell_type": "markdown",
   "id": "3ebda731-d36a-44ef-9373-277867d71072",
   "metadata": {},
   "source": [
    "可以使用[]来访问元组中的元素："
   ]
  },
  {
   "cell_type": "code",
   "execution_count": null,
   "id": "0741d182-1dd6-4d46-873c-b90299c33d32",
   "metadata": {},
   "outputs": [],
   "source": [
    "num_list_to_tup[0]"
   ]
  },
  {
   "cell_type": "markdown",
   "id": "7af9fcbb-50a5-448d-8621-f96bcbd75b26",
   "metadata": {},
   "source": [
    "Python从0开始。"
   ]
  },
  {
   "cell_type": "markdown",
   "id": "859feec0-c6ff-4db4-b393-b3a4cae3d763",
   "metadata": {},
   "source": [
    "tuple中可以嵌套tuple："
   ]
  },
  {
   "cell_type": "code",
   "execution_count": null,
   "id": "79a58d5f-8278-4386-9ca3-fed7c6e1dd49",
   "metadata": {},
   "outputs": [],
   "source": [
    "tuple_contain_tuple = (1, 2, 3), (4, 5, 6)"
   ]
  },
  {
   "cell_type": "code",
   "execution_count": null,
   "id": "07c99a3e-f234-405e-96cd-c8bff887026b",
   "metadata": {},
   "outputs": [],
   "source": [
    "tuple_contain_tuple"
   ]
  },
  {
   "cell_type": "markdown",
   "id": "d2783b27-2b47-4125-bd4e-eafd3f394b94",
   "metadata": {},
   "source": [
    "tuple中包括的对象是不可变的，但是对象本身是可变的："
   ]
  },
  {
   "cell_type": "code",
   "execution_count": null,
   "id": "cf978a3a-fb65-4ae7-b086-1ec1f3484647",
   "metadata": {},
   "outputs": [],
   "source": [
    "tuple_contain_list = (1, 2, [4, 5, 6])"
   ]
  },
  {
   "cell_type": "code",
   "execution_count": null,
   "id": "6084a269-2d7d-476e-80d7-0d50652e96ef",
   "metadata": {},
   "outputs": [],
   "source": [
    "tuple_contain_list"
   ]
  },
  {
   "cell_type": "markdown",
   "id": "ba9f6de5-3ca3-44aa-8532-e38577286135",
   "metadata": {},
   "source": [
    "[3, 4, 5] 是一个list，是可变的，可以将这个对象进行修改。"
   ]
  },
  {
   "cell_type": "code",
   "execution_count": null,
   "id": "b57c6bc1-6a8f-420d-b0c9-b40d713be1be",
   "metadata": {},
   "outputs": [],
   "source": [
    "id(tuple_contain_list)"
   ]
  },
  {
   "cell_type": "code",
   "execution_count": null,
   "id": "db323110-c1ba-4573-9447-4d0bb7019b92",
   "metadata": {},
   "outputs": [],
   "source": [
    "id(tuple_contain_list[2])"
   ]
  },
  {
   "cell_type": "code",
   "execution_count": null,
   "id": "ddc26f0a-f658-4b0f-ae58-b84d6083ca3d",
   "metadata": {},
   "outputs": [],
   "source": [
    "# 开始进行修改\n",
    "tuple_contain_list[2].append(7)  # 这是一个原地修改"
   ]
  },
  {
   "cell_type": "code",
   "execution_count": null,
   "id": "2c980d0d-0591-4583-b826-eea7d9c427c5",
   "metadata": {},
   "outputs": [],
   "source": [
    "tuple_contain_list"
   ]
  },
  {
   "cell_type": "code",
   "execution_count": null,
   "id": "1e448f90-cc6a-45c8-930d-cd738059a5d3",
   "metadata": {},
   "outputs": [],
   "source": [
    "tuple_contain_list[2]"
   ]
  },
  {
   "cell_type": "code",
   "execution_count": null,
   "id": "affc4e9c-a119-42ec-8629-58f4cd0538f9",
   "metadata": {},
   "outputs": [],
   "source": [
    "id(tuple_contain_list[2])"
   ]
  },
  {
   "cell_type": "markdown",
   "id": "fb645a5f-d18d-4663-9023-d65e6dd4e825",
   "metadata": {},
   "source": [
    "简单的认为：tuple对象中包含了对其他对象的指向，这是不可变的，但是其他对象中的内容是可变的。"
   ]
  },
  {
   "cell_type": "markdown",
   "id": "eec9c30b-4fc4-4416-bbba-9b59a908990a",
   "metadata": {},
   "source": [
    "tuple也可以使用 + 来进行连接："
   ]
  },
  {
   "cell_type": "code",
   "execution_count": null,
   "id": "92daf095-1e35-40ea-8a19-a96097cd28b5",
   "metadata": {},
   "outputs": [],
   "source": [
    "tuple_1 = (1, 2, 3)\n",
    "tuple_2 = (4, 5, 6)\n",
    "\n",
    "tuple_together = tuple_1 + tuple_2"
   ]
  },
  {
   "cell_type": "code",
   "execution_count": null,
   "id": "89f311f1-2e1f-4903-be6b-19e43686cb56",
   "metadata": {},
   "outputs": [],
   "source": [
    "tuple_together"
   ]
  },
  {
   "cell_type": "markdown",
   "id": "c6f5b7ba-e41e-48ce-8bff-71dcae1cd103",
   "metadata": {},
   "source": [
    "元组是可以被拆包的："
   ]
  },
  {
   "cell_type": "code",
   "execution_count": null,
   "id": "a7baee4f-bde5-4206-b96c-532ca213b3bf",
   "metadata": {},
   "outputs": [],
   "source": [
    "num_tuple = (1, 2, 3)\n",
    "\n",
    "a, b, c = num_tuple"
   ]
  },
  {
   "cell_type": "code",
   "execution_count": null,
   "id": "10593d52-075f-445e-b8a5-5a375bd4f250",
   "metadata": {},
   "outputs": [],
   "source": [
    "a"
   ]
  },
  {
   "cell_type": "code",
   "execution_count": null,
   "id": "a9fd63bd-29cb-47bf-baa3-5a07ad020f0f",
   "metadata": {},
   "outputs": [],
   "source": [
    "b"
   ]
  },
  {
   "cell_type": "code",
   "execution_count": null,
   "id": "4b1930bb-733e-47ed-8429-0d6977d1c667",
   "metadata": {},
   "outputs": [],
   "source": [
    "c"
   ]
  },
  {
   "cell_type": "markdown",
   "id": "d9c44fa6-6f23-4928-b696-ead438fcc842",
   "metadata": {},
   "source": [
    "利用python的这个功能，可以实现简单的交换。"
   ]
  },
  {
   "cell_type": "code",
   "execution_count": null,
   "id": "4d9f30b8-31a0-49ca-af9c-771a3c5bb713",
   "metadata": {},
   "outputs": [],
   "source": [
    "# 如果是其他语言\n",
    "temp = a\n",
    "a = b\n",
    "b = temp"
   ]
  },
  {
   "cell_type": "code",
   "execution_count": null,
   "id": "dd471f65-0d60-4518-9a01-e8283e8db92f",
   "metadata": {},
   "outputs": [],
   "source": [
    "a, b"
   ]
  },
  {
   "cell_type": "code",
   "execution_count": null,
   "id": "b198daa4-b1eb-4b62-8228-6d91d7f450d2",
   "metadata": {},
   "outputs": [],
   "source": [
    "# 但是python可以这样做\n",
    "a, b = b, a"
   ]
  },
  {
   "cell_type": "code",
   "execution_count": null,
   "id": "a9b324b2-99a0-4f2c-8eaa-c34cdf25eda1",
   "metadata": {},
   "outputs": [],
   "source": [
    "a, b"
   ]
  },
  {
   "cell_type": "markdown",
   "id": "8d5e1f9e-4c3f-47dd-b88d-58f003ff1d7b",
   "metadata": {},
   "source": [
    "有些时候，想要提取某几个元素，然后剩下的元素全部赋值到某一个对象中："
   ]
  },
  {
   "cell_type": "code",
   "execution_count": null,
   "id": "b2cc75ee-7527-4a24-af50-416068319320",
   "metadata": {},
   "outputs": [],
   "source": [
    "values = 1, 2, 3, 4, 5"
   ]
  },
  {
   "cell_type": "code",
   "execution_count": null,
   "id": "efc72a0e-c7ce-486b-b384-78894df588f4",
   "metadata": {},
   "outputs": [],
   "source": [
    "a, b, *rest = values"
   ]
  },
  {
   "cell_type": "code",
   "execution_count": null,
   "id": "89029a5b-e547-4e78-9975-7cd6238c9bde",
   "metadata": {},
   "outputs": [],
   "source": [
    "rest"
   ]
  },
  {
   "cell_type": "markdown",
   "id": "6b7b6d60-5896-42f2-894d-eba21975139c",
   "metadata": {},
   "source": [
    "如果剩余的部分是不重要的，Python通常使用 _ 来进行表示："
   ]
  },
  {
   "cell_type": "code",
   "execution_count": null,
   "id": "064f4608-5255-48f6-9863-7e31e79ff1bd",
   "metadata": {},
   "outputs": [],
   "source": [
    "a, b, *_ = values"
   ]
  },
  {
   "cell_type": "code",
   "execution_count": null,
   "id": "4086d558-da5d-46d0-b936-e7b11dd85c98",
   "metadata": {},
   "outputs": [],
   "source": [
    "_"
   ]
  },
  {
   "cell_type": "markdown",
   "id": "f860ef2b-b2cf-45e3-8bfb-aaa382072912",
   "metadata": {},
   "source": [
    "元组是无法被修改的，所以关于元组的实例方法都是非常的轻量的："
   ]
  },
  {
   "cell_type": "code",
   "execution_count": null,
   "id": "0ca5395a-7a38-4173-b749-77a77a622cf4",
   "metadata": {},
   "outputs": [],
   "source": [
    "a = (1, 1, 1, 2, 3, 4, 5)"
   ]
  },
  {
   "cell_type": "code",
   "execution_count": null,
   "id": "e0bb03e4-0184-4898-9b87-a827f453a736",
   "metadata": {},
   "outputs": [],
   "source": [
    "a.count(1)"
   ]
  },
  {
   "cell_type": "markdown",
   "id": "0dcc7b5d-50f7-419e-a1a9-1bfa027ef481",
   "metadata": {},
   "source": [
    "## 列表"
   ]
  },
  {
   "cell_type": "markdown",
   "id": "8c8c3c1d-d024-4ac5-bd10-1dbd5c767b31",
   "metadata": {},
   "source": [
    "列表是可变的："
   ]
  },
  {
   "cell_type": "code",
   "execution_count": null,
   "id": "56f937b3-61df-48cb-a3e8-3d82f9cac47e",
   "metadata": {},
   "outputs": [],
   "source": [
    "num_list = [0, 1, 2, 3, 4]"
   ]
  },
  {
   "cell_type": "code",
   "execution_count": null,
   "id": "d1d96e8a-0872-45bb-9ed3-de7bd8d2e9c9",
   "metadata": {},
   "outputs": [],
   "source": [
    "num_list"
   ]
  },
  {
   "cell_type": "markdown",
   "id": "9b4b252b-dfa2-498e-ac6a-f83310c420d8",
   "metadata": {},
   "source": [
    "可以使用生成器来生成序列，并且使用list()来转换为list："
   ]
  },
  {
   "cell_type": "code",
   "execution_count": null,
   "id": "466155d2-262a-4edb-acac-94d52f41b8d0",
   "metadata": {},
   "outputs": [],
   "source": [
    "gen = range(10)"
   ]
  },
  {
   "cell_type": "code",
   "execution_count": null,
   "id": "c959e7b1-b3ed-4bbc-af17-655d210079c6",
   "metadata": {},
   "outputs": [],
   "source": [
    "list(gen)"
   ]
  },
  {
   "cell_type": "markdown",
   "id": "2e657121-c0e1-4a8a-bef8-04aff46d27ff",
   "metadata": {},
   "source": [
    "可以使用append()来在末尾进行添加："
   ]
  },
  {
   "cell_type": "code",
   "execution_count": null,
   "id": "f857f48e-c6da-4206-ba93-f02824206ad5",
   "metadata": {},
   "outputs": [],
   "source": [
    "num_list.append(5)"
   ]
  },
  {
   "cell_type": "code",
   "execution_count": null,
   "id": "aa803417-2b38-429a-888b-921ef663d7d8",
   "metadata": {},
   "outputs": [],
   "source": [
    "num_list"
   ]
  },
  {
   "cell_type": "markdown",
   "id": "7472274e-80cf-4462-bea3-e1328fd1db17",
   "metadata": {},
   "source": [
    "也可以使用insert()函数来在指定的位置插入元素："
   ]
  },
  {
   "cell_type": "code",
   "execution_count": null,
   "id": "ccbdf813-6c6c-4539-9927-4373dcc039f5",
   "metadata": {},
   "outputs": [],
   "source": [
    "num_list.insert(1, -999)"
   ]
  },
  {
   "cell_type": "code",
   "execution_count": null,
   "id": "40529e60-7e88-425e-9ad5-25a9b7b672da",
   "metadata": {},
   "outputs": [],
   "source": [
    "num_list"
   ]
  },
  {
   "cell_type": "markdown",
   "id": "3a8b6d95-5738-40a9-96c0-de60f32131bb",
   "metadata": {},
   "source": [
    "insert(index, num)会将index所在的位置的元素往后推一个位置，然后将num插入进去。"
   ]
  },
  {
   "cell_type": "markdown",
   "id": "fad5eced-7005-4eb1-bc6a-c394f08dd8ce",
   "metadata": {},
   "source": [
    "insert函数的反面是pop函数："
   ]
  },
  {
   "cell_type": "code",
   "execution_count": null,
   "id": "4365571e-a19f-4303-b1e0-fb8646fd4f18",
   "metadata": {},
   "outputs": [],
   "source": [
    "num_list.pop(1)"
   ]
  },
  {
   "cell_type": "code",
   "execution_count": null,
   "id": "1179177d-d43c-4eb6-94d9-a22be212849e",
   "metadata": {},
   "outputs": [],
   "source": [
    "num_list"
   ]
  },
  {
   "cell_type": "markdown",
   "id": "aca3981c-23c2-4c7e-9fff-994a88715425",
   "metadata": {},
   "source": [
    "如果不指定pop(index)中的index的值，结果如下所示："
   ]
  },
  {
   "cell_type": "code",
   "execution_count": null,
   "id": "81b13487-e4fc-4ea0-a0b2-9892c36dff56",
   "metadata": {},
   "outputs": [],
   "source": [
    "num_list.pop()\n",
    "\n",
    "num_list"
   ]
  },
  {
   "cell_type": "markdown",
   "id": "cbdc1896-cae6-4afe-aa36-185757e1fb16",
   "metadata": {},
   "source": [
    "默认从list的末尾弹出。"
   ]
  },
  {
   "cell_type": "code",
   "execution_count": null,
   "id": "9ebebd5d-0427-4fd1-bd74-c50480e79dee",
   "metadata": {},
   "outputs": [],
   "source": [
    "pop_num = num_list.pop()"
   ]
  },
  {
   "cell_type": "code",
   "execution_count": null,
   "id": "e366e38e-a415-43ec-9523-38726cb1b5b7",
   "metadata": {},
   "outputs": [],
   "source": [
    "pop_num"
   ]
  },
  {
   "cell_type": "markdown",
   "id": "ad0f89c6-18bc-43ea-9297-50f34704842d",
   "metadata": {},
   "source": [
    "可以发现pop函数是有返回值的。"
   ]
  },
  {
   "cell_type": "markdown",
   "id": "9a9dec13-acbb-4137-be3e-0bc70c21a5f7",
   "metadata": {},
   "source": [
    "还有一个方法就是使用remove()函数，remove函数会找到第一个出现的符合条件的值，然后移除："
   ]
  },
  {
   "cell_type": "code",
   "execution_count": null,
   "id": "d68e81b2-d0e9-4ea1-83d4-2f5e354dfa49",
   "metadata": {},
   "outputs": [],
   "source": [
    "num_list = [0, 1, 2, 3, 4, 4, 5, 6]"
   ]
  },
  {
   "cell_type": "code",
   "execution_count": null,
   "id": "a1636c95-370c-4d6d-ac2e-b13547d2ecc7",
   "metadata": {},
   "outputs": [],
   "source": [
    "num_list.remove(4)"
   ]
  },
  {
   "cell_type": "code",
   "execution_count": null,
   "id": "803e84fe-3f73-4560-a3ac-6fc868398bd3",
   "metadata": {},
   "outputs": [],
   "source": [
    "num_list"
   ]
  },
  {
   "cell_type": "markdown",
   "id": "96c362a6-3da0-410b-a506-5bbda429dbda",
   "metadata": {},
   "source": [
    "如果要判断一个值否是在list中："
   ]
  },
  {
   "cell_type": "code",
   "execution_count": null,
   "id": "28ed61ed-24a1-4b44-92ec-dc0cd21da6ee",
   "metadata": {},
   "outputs": [],
   "source": [
    "3 in num_list"
   ]
  },
  {
   "cell_type": "code",
   "execution_count": null,
   "id": "f697068e-1843-4749-a696-94beed6149a1",
   "metadata": {},
   "outputs": [],
   "source": [
    "3 not in num_list"
   ]
  },
  {
   "cell_type": "markdown",
   "id": "8d48e251-3c40-466a-8c32-d329ed1830a9",
   "metadata": {},
   "source": [
    "append()可以添加单个元素，如果要添加多个元素，则可以使用extend()函数："
   ]
  },
  {
   "cell_type": "code",
   "execution_count": null,
   "id": "2a3d1d2d-173b-47b4-9aa0-781485a228d0",
   "metadata": {},
   "outputs": [],
   "source": [
    "num_list.extend([999, 999, [1, 2, 3, 4, 5]])"
   ]
  },
  {
   "cell_type": "code",
   "execution_count": null,
   "id": "0bc82ad1-4bd3-4762-aad8-3117d1cd0315",
   "metadata": {},
   "outputs": [],
   "source": [
    "num_list"
   ]
  },
  {
   "cell_type": "markdown",
   "id": "48cd3f6a-bb41-4fba-ad26-4e22d2da15eb",
   "metadata": {},
   "source": [
    "extend()添加的计算量比 + 来进行添加，计算量来的更小一些。"
   ]
  },
  {
   "cell_type": "markdown",
   "id": "12a94d49-9772-4c9b-9be2-2d51bb24ae3d",
   "metadata": {},
   "source": [
    "这里可以实现一下，然后查看一下是否真的是这样："
   ]
  },
  {
   "cell_type": "code",
   "execution_count": null,
   "id": "ffbaa24e-ff6e-4ede-80bb-8505a9050fc9",
   "metadata": {},
   "outputs": [],
   "source": [
    "import time\n",
    "\n",
    "# 创建两个较大的列表\n",
    "list1 = list(range(100000000))  # 1亿个元素\n",
    "list2 = list(range(100000000, 200000000))  # 另1亿个元素\n",
    "\n",
    "# 测试 extend() 的时间\n",
    "start_time = time.time()\n",
    "list1_copy = list1.copy()  # 创建一个副本，避免修改原列表\n",
    "list1_copy.extend(list2)\n",
    "extend_time = time.time() - start_time\n",
    "\n",
    "# 测试 + 的时间\n",
    "start_time = time.time()\n",
    "combined_list = list1 + list2\n",
    "plus_time = time.time() - start_time\n",
    "\n",
    "# 输出结果\n",
    "print(f\"Time taken by extend(): {extend_time:.6f} seconds\")\n",
    "print(f\"Time taken by +: {plus_time:.6f} seconds\")"
   ]
  },
  {
   "cell_type": "code",
   "execution_count": null,
   "id": "105f16a1-b043-4fef-9305-cb7e6eb55cdc",
   "metadata": {},
   "outputs": [],
   "source": [
    "del list1"
   ]
  },
  {
   "cell_type": "code",
   "execution_count": null,
   "id": "75bb9b9d-0790-4ff7-8bdc-c44ad348756f",
   "metadata": {},
   "outputs": [],
   "source": [
    "del list2"
   ]
  },
  {
   "cell_type": "markdown",
   "id": "ba3b9fd0-909a-4800-82cb-7adccdd337e2",
   "metadata": {},
   "source": [
    "如果要对列表中的内容进行排序，可以使用 .sort() 函数来进行："
   ]
  },
  {
   "cell_type": "code",
   "execution_count": null,
   "id": "9e9eb0a8-a25e-4e08-8909-b809a3193076",
   "metadata": {},
   "outputs": [],
   "source": [
    "random_list = [2, 34, 5, 1, 6, 2, 4,7, 9, 8, 0]\n",
    "\n",
    "random_list.sort()"
   ]
  },
  {
   "cell_type": "code",
   "execution_count": null,
   "id": "c78ec6e1-ae68-45a6-abcb-dae162467055",
   "metadata": {},
   "outputs": [],
   "source": [
    "random_list"
   ]
  },
  {
   "cell_type": "markdown",
   "id": "9d685c4f-ea20-4d2c-bc5b-e10d8d0358f4",
   "metadata": {},
   "source": [
    "list可以切片："
   ]
  },
  {
   "cell_type": "code",
   "execution_count": null,
   "id": "bbe8ed56-d2f9-4aa9-ac18-6f811a16aa05",
   "metadata": {},
   "outputs": [],
   "source": [
    "random_list[:5]"
   ]
  },
  {
   "cell_type": "code",
   "execution_count": null,
   "id": "2892c721-2449-4ed1-982e-3750af5be653",
   "metadata": {},
   "outputs": [],
   "source": [
    "random_list"
   ]
  },
  {
   "cell_type": "code",
   "execution_count": null,
   "id": "aa9c83b5-abc1-477a-a4cb-65ffcffb9dcb",
   "metadata": {},
   "outputs": [],
   "source": [
    "random_list[-3:-1]"
   ]
  },
  {
   "cell_type": "code",
   "execution_count": null,
   "id": "25389356-073d-4ef7-984f-cacffe3294d8",
   "metadata": {},
   "outputs": [],
   "source": [
    "# 直接进行翻转\n",
    "random_list[::-1]"
   ]
  },
  {
   "cell_type": "markdown",
   "id": "f2b6401b-5d8d-4661-9b45-50e72f8126d6",
   "metadata": {},
   "source": [
    "## 字典"
   ]
  },
  {
   "cell_type": "code",
   "execution_count": null,
   "id": "8f2b6b60-a69f-443f-8dad-23e02ef0f8b3",
   "metadata": {},
   "outputs": [],
   "source": [
    "empty_dict = {}"
   ]
  },
  {
   "cell_type": "code",
   "execution_count": null,
   "id": "599e7416-25e5-4495-87b5-aacca1fd6a53",
   "metadata": {},
   "outputs": [],
   "source": [
    "empty_dict[\"key_01\"] = \"value_01\""
   ]
  },
  {
   "cell_type": "code",
   "execution_count": null,
   "id": "3b67965c-deb6-43be-900c-a1ed50e18fa5",
   "metadata": {},
   "outputs": [],
   "source": [
    "empty_dict"
   ]
  },
  {
   "cell_type": "code",
   "execution_count": null,
   "id": "ecd9f6e1-2166-49b5-a99d-aeb29af26ea8",
   "metadata": {},
   "outputs": [],
   "source": [
    "empty_dict[\"key_01\"]"
   ]
  },
  {
   "cell_type": "markdown",
   "id": "d645e02d-2d42-4b1f-9a65-f0efd5a2563b",
   "metadata": {},
   "source": [
    "使用 in 可以查看字典是否包含了某一个键："
   ]
  },
  {
   "cell_type": "code",
   "execution_count": null,
   "id": "fe28a9f5-8650-434f-a6ee-ddcdc89ccd7a",
   "metadata": {},
   "outputs": [],
   "source": [
    "'key_02' in empty_dict"
   ]
  },
  {
   "cell_type": "code",
   "execution_count": null,
   "id": "4982015f-6754-48e6-8c07-0246159209dd",
   "metadata": {},
   "outputs": [],
   "source": [
    "'key_01' in empty_dict"
   ]
  },
  {
   "cell_type": "markdown",
   "id": "c29a0dea-331f-4ba7-8017-45f4377324d2",
   "metadata": {},
   "source": [
    "如果要删除，则需要使用 del 函数"
   ]
  },
  {
   "cell_type": "code",
   "execution_count": null,
   "id": "592c843e-e889-4eab-bd9d-d92efd045d6e",
   "metadata": {},
   "outputs": [],
   "source": [
    "del empty_dict['key_01']"
   ]
  },
  {
   "cell_type": "code",
   "execution_count": null,
   "id": "dbbc5d26-5267-4159-8744-32304c38e8e9",
   "metadata": {},
   "outputs": [],
   "source": [
    "empty_dict"
   ]
  },
  {
   "cell_type": "markdown",
   "id": "6828e20c-5016-475b-b855-384d11c580e1",
   "metadata": {},
   "source": [
    "也可以使用 pop 来弹出字典的指定的键所对应的值："
   ]
  },
  {
   "cell_type": "code",
   "execution_count": null,
   "id": "6c9a1435-2071-46ce-a762-4e4119d90830",
   "metadata": {},
   "outputs": [],
   "source": [
    "dict_01 = {\"key01\":\"value01\", \"key02\":\"value02\", \"key03\":\"value03\"}"
   ]
  },
  {
   "cell_type": "code",
   "execution_count": null,
   "id": "3193c5d8-68b3-438a-8e27-276e138cf52c",
   "metadata": {},
   "outputs": [],
   "source": [
    "# pop弹出\n",
    "pop_value = dict_01.pop(\"key02\")"
   ]
  },
  {
   "cell_type": "code",
   "execution_count": null,
   "id": "7cbe17e6-e9b0-4363-b15c-2034d4c3f02f",
   "metadata": {},
   "outputs": [],
   "source": [
    "pop_value"
   ]
  },
  {
   "cell_type": "markdown",
   "id": "d92af1f2-9183-451d-8fe5-e9004bbfbc53",
   "metadata": {},
   "source": [
    "可以使用 items() 来同时迭代 键，值："
   ]
  },
  {
   "cell_type": "code",
   "execution_count": null,
   "id": "349c20e5-f340-47d8-80a9-f5876b0c9111",
   "metadata": {},
   "outputs": [],
   "source": [
    "list(dict_01.items())"
   ]
  },
  {
   "cell_type": "markdown",
   "id": "1d854716-420d-464f-893e-955bc8934089",
   "metadata": {},
   "source": [
    "如果要对字典进行合并，不能够使用 + 或者 extend，但是可以使用update函数："
   ]
  },
  {
   "cell_type": "code",
   "execution_count": null,
   "id": "47883950-117f-4e28-bff4-26bee5f3d069",
   "metadata": {},
   "outputs": [],
   "source": [
    "dict_02 = {\"key99\": \"value99\"}"
   ]
  },
  {
   "cell_type": "code",
   "execution_count": null,
   "id": "f226d4d0-cd19-470c-82c5-2ea82d1b9d38",
   "metadata": {},
   "outputs": [],
   "source": [
    "dict_01"
   ]
  },
  {
   "cell_type": "code",
   "execution_count": null,
   "id": "288a12de-d45e-4f11-971c-52bb2509cbfa",
   "metadata": {},
   "outputs": [],
   "source": [
    "dict_02"
   ]
  },
  {
   "cell_type": "code",
   "execution_count": null,
   "id": "c8276a9a-ca3e-4ad8-980b-24f2a997ef95",
   "metadata": {},
   "outputs": [],
   "source": [
    "dict_01.update(dict_02)"
   ]
  },
  {
   "cell_type": "code",
   "execution_count": null,
   "id": "80768b40-8a15-4fd9-8e53-6fcf81c54e37",
   "metadata": {},
   "outputs": [],
   "source": [
    "dict_01"
   ]
  },
  {
   "cell_type": "markdown",
   "id": "bcd34118-bd28-4cd5-8ff6-e9d6b8dbb4a6",
   "metadata": {},
   "source": [
    "如果存在着相同的键但是不同的值，则会保留最新的键值对。"
   ]
  },
  {
   "cell_type": "markdown",
   "id": "9ec4c8a8-1e17-418a-a709-fe1f6462a8c5",
   "metadata": {},
   "source": [
    "如果想要使用序列来创建元素配对，可以使用 zip() 函数："
   ]
  },
  {
   "cell_type": "code",
   "execution_count": null,
   "id": "64a7775d-2320-4d56-9df2-40da68e3f296",
   "metadata": {},
   "outputs": [],
   "source": [
    "mapping = {}"
   ]
  },
  {
   "cell_type": "code",
   "execution_count": null,
   "id": "5aa68f5f-e621-47cc-9f8e-531c96811221",
   "metadata": {},
   "outputs": [],
   "source": [
    "tuple_zip = zip(range(5), reversed(range(5)))"
   ]
  },
  {
   "cell_type": "code",
   "execution_count": null,
   "id": "5fb93896-fa7f-4559-89f6-84d17cfdae44",
   "metadata": {},
   "outputs": [],
   "source": [
    "tuple_zip"
   ]
  },
  {
   "cell_type": "code",
   "execution_count": null,
   "id": "3c9de25e-2e58-4c30-be3f-c345dc324829",
   "metadata": {},
   "outputs": [],
   "source": [
    "mapping = dict(tuple_zip)"
   ]
  },
  {
   "cell_type": "code",
   "execution_count": null,
   "id": "929299b3-6c8d-4222-828f-7a80c26d0c2b",
   "metadata": {},
   "outputs": [],
   "source": [
    "mapping"
   ]
  },
  {
   "cell_type": "markdown",
   "id": "ffb7e405-61ec-4f9f-950d-3565b091f2f2",
   "metadata": {},
   "source": [
    "## 集合"
   ]
  },
  {
   "cell_type": "markdown",
   "id": "2fbfa0d8-7b30-48a8-93b2-17d63501f13a",
   "metadata": {},
   "source": [
    "集合是唯一元素的无序集合。"
   ]
  },
  {
   "cell_type": "code",
   "execution_count": null,
   "id": "acfbf0c5-6c5d-4c25-801f-213efacf4720",
   "metadata": {},
   "outputs": [],
   "source": [
    "set([2, 3, 4, 5, 6, 2, 3, 4])"
   ]
  },
  {
   "cell_type": "markdown",
   "id": "6e14e1de-4d8a-46b7-b463-96119675f493",
   "metadata": {},
   "source": [
    "也可以直接使用尖括号："
   ]
  },
  {
   "cell_type": "code",
   "execution_count": null,
   "id": "bec0d96e-5a2f-4ffe-9735-6b8c8b60f717",
   "metadata": {},
   "outputs": [],
   "source": [
    "{1, 1, 2, 3, 4, 5, 2, 1, 1}"
   ]
  },
  {
   "cell_type": "markdown",
   "id": "d0176b77-b5f1-435d-8992-88bfd8aacfd1",
   "metadata": {},
   "source": [
    "集合的常见的函数如下所示："
   ]
  },
  {
   "attachments": {
    "93039af3-acad-4bf2-b569-914849d82b87.png": {
     "image/png": "[encoded data removed]"
    }
   },
   "cell_type": "markdown",
   "id": "54b2f8e4-59e6-43ae-9dfc-acd65b2e524f",
   "metadata": {},
   "source": [
    "![image.png](attachment:93039af3-acad-4bf2-b569-914849d82b87.png)"
   ]
  },
  {
   "cell_type": "markdown",
   "id": "93cb4081-0f3d-4aa8-86e4-497d17887e50",
   "metadata": {},
   "source": [
    "enumerate函数："
   ]
  },
  {
   "cell_type": "code",
   "execution_count": null,
   "id": "df83d1da-ddaf-4db7-ae7a-8e6326b648d2",
   "metadata": {},
   "outputs": [],
   "source": [
    "fruits = [\"apple\", \"banana\", \"cherry\"]\n",
    "\n",
    "for index, fruit in enumerate(fruits):\n",
    "    print(f\"Index: {index}, Fruit: {fruit}\")"
   ]
  },
  {
   "cell_type": "markdown",
   "id": "e1d9569d-a597-4f84-8d28-7eb47e1de58e",
   "metadata": {},
   "source": [
    "列表推导式："
   ]
  },
  {
   "cell_type": "code",
   "execution_count": null,
   "id": "72b87f29-8be5-4aa8-865e-79082218f0ab",
   "metadata": {},
   "outputs": [],
   "source": [
    "# [expr for value in collection if condition]"
   ]
  },
  {
   "cell_type": "code",
   "execution_count": null,
   "id": "2f809236-0137-44e3-b4a3-9583e9e172ea",
   "metadata": {},
   "outputs": [],
   "source": [
    "strings = [\"a\", \"as\", \"bat\", \"car\"]"
   ]
  },
  {
   "cell_type": "code",
   "execution_count": null,
   "id": "a39d5e67-17fc-47e9-95a5-e8dcdf48b8ca",
   "metadata": {},
   "outputs": [],
   "source": [
    "[x.upper() for x in strings if len(x) > 2]"
   ]
  },
  {
   "cell_type": "markdown",
   "id": "a497704a-9de0-4e3e-bbae-2b96a9fbc85b",
   "metadata": {},
   "source": [
    "字典推导式："
   ]
  },
  {
   "cell_type": "code",
   "execution_count": null,
   "id": "b077c7fb-2e11-4b5c-8c8c-4ead5744ae43",
   "metadata": {},
   "outputs": [],
   "source": [
    "fruits = [\"apple\", \"banana\", \"cherry\", \"date\"]\n",
    "\n",
    "# 使用字典推导式创建字典\n",
    "fruit_lengths = {fruit: len(fruit) for fruit in fruits}\n",
    "\n",
    "print(fruit_lengths)"
   ]
  },
  {
   "cell_type": "markdown",
   "id": "7f1fdb93-ea29-4aa0-a8f2-34d0bb0f7e3a",
   "metadata": {},
   "source": [
    "map可以对每一个可以迭代的对象调用函数："
   ]
  },
  {
   "cell_type": "code",
   "execution_count": null,
   "id": "bbf02915-0c8a-411a-aeb4-7a818c9dbe30",
   "metadata": {},
   "outputs": [],
   "source": [
    "# map(function, iterable)\n",
    "\n",
    "numbers = [1, 2, 3, 4, 5]\n",
    "\n",
    "# 使用 map() 将每个数字平方\n",
    "squared_numbers = map(lambda x: x ** 2, numbers)\n",
    "\n",
    "# 将结果转换为列表\n",
    "squared_numbers_list = list(squared_numbers)\n",
    "\n",
    "print(squared_numbers_list)"
   ]
  },
  {
   "cell_type": "markdown",
   "id": "12397529-77b8-4d40-a37b-33087d66055f",
   "metadata": {},
   "source": [
    "# 函数"
   ]
  },
  {
   "cell_type": "markdown",
   "id": "531823e7-8df2-48f3-81b4-0d0398a99c50",
   "metadata": {},
   "source": [
    "## 函数与命名空间"
   ]
  },
  {
   "cell_type": "markdown",
   "id": "de6b4f74-eecf-4cdd-ba98-ce26320471e6",
   "metadata": {},
   "source": [
    "函数是一段可以重复使用的代码块，用于执行特定的任务。通过使用函数，可以使代码更加模块化、易于维护和复用。"
   ]
  },
  {
   "cell_type": "code",
   "execution_count": 5,
   "id": "f68be4e7-612e-48b0-9191-2e989763842d",
   "metadata": {},
   "outputs": [],
   "source": [
    "def function_name(parameters):\n",
    "    \"\"\"文档字符串（可选，用于描述函数功能）\"\"\"\n",
    "    # 函数体\n",
    "    return value  # 可选，返回值"
   ]
  },
  {
   "cell_type": "code",
   "execution_count": 7,
   "id": "b1446cae-a9b5-4b8d-9133-13cd8fd10fc7",
   "metadata": {},
   "outputs": [],
   "source": [
    "# result = function_name(arguments)"
   ]
  },
  {
   "cell_type": "markdown",
   "id": "cab4b2b3-a87c-44f5-9bdc-c165b6ad9060",
   "metadata": {},
   "source": [
    "命名空间（Namespace）是一个映射，将名称（标识符）映射到对象。在 Python 中，命名空间决定了变量、函数等的可见范围。\n",
    "\n",
    "命名空间的类型：\n",
    "\n",
    "- 内置命名空间（Built-in Namespace）：包含内置函数和异常，如 len()、print() 等。\n",
    "- 全局命名空间（Global Namespace）：在模块级别定义，包含模块中的变量、函数等。\n",
    "- 局部命名空间（Local Namespace）：在函数或类内部定义，包含局部变量。\n",
    "\n",
    "命名空间的查找顺序：\n",
    "\n",
    "Python 使用 LEGB 规则查找变量：\n",
    "\n",
    "- L（Local）：首先在局部命名空间查找。\n",
    "- E（Enclosing）：如果在局部找不到，查找封闭的函数（如嵌套函数的外层函数）。\n",
    "- G（Global）：接着在全局命名空间查找。\n",
    "- B（Built-in）：最后在内置命名空间查找。"
   ]
  },
  {
   "cell_type": "code",
   "execution_count": 8,
   "id": "ef1f98c3-a5ad-4519-80d9-21fb18841cda",
   "metadata": {},
   "outputs": [
    {
     "name": "stdout",
     "output_type": "stream",
     "text": [
      "30\n",
      "20\n",
      "10\n"
     ]
    }
   ],
   "source": [
    "# 示例\n",
    "x = 10  # 全局变量\n",
    "\n",
    "def outer_function():\n",
    "    y = 20  # 局部变量（对于 outer_function 来说）\n",
    "\n",
    "    def inner_function():\n",
    "        z = 30  # 局部变量（对于 inner_function 来说）\n",
    "        print(z)  # 查找顺序：L -> E -> G -> B\n",
    "\n",
    "    inner_function()\n",
    "    print(y)\n",
    "\n",
    "outer_function()\n",
    "print(x)"
   ]
  },
  {
   "cell_type": "markdown",
   "id": "41ec1919-acdb-4bc3-8bf4-2b2cdfc6c3b4",
   "metadata": {},
   "source": [
    "使用 *args 接收任意数量的位置参数，使用 **kwargs 接收任意数量的关键字参数。"
   ]
  },
  {
   "cell_type": "code",
   "execution_count": 9,
   "id": "e235dcfe-9208-4417-abb7-1dc53a87cb1c",
   "metadata": {},
   "outputs": [
    {
     "name": "stdout",
     "output_type": "stream",
     "text": [
      "10\n",
      "name: Eve\n",
      "age: 30\n"
     ]
    }
   ],
   "source": [
    "def calculate_sum(*args):\n",
    "    return sum(args)\n",
    "\n",
    "print(calculate_sum(1, 2, 3, 4))  # 输出 10\n",
    "\n",
    "def print_info(**kwargs):\n",
    "    for key, value in kwargs.items():\n",
    "        print(f\"{key}: {value}\")\n",
    "\n",
    "print_info(name=\"Eve\", age=30)  # 输出 name: Eve 和 age: 30"
   ]
  },
  {
   "cell_type": "markdown",
   "id": "34f2b31c-cc15-4943-b3a3-efd45d09055e",
   "metadata": {},
   "source": [
    "使用 return 语句返回值。如果没有 return 或 return 后没有值，则返回 None。"
   ]
  },
  {
   "cell_type": "markdown",
   "id": "d7b23b4d-a6d8-4bec-84eb-f07866fec827",
   "metadata": {},
   "source": [
    "## 匿名函数"
   ]
  },
  {
   "cell_type": "code",
   "execution_count": 10,
   "id": "6cb19de9-cd13-444c-8591-3a33fe134d3b",
   "metadata": {},
   "outputs": [
    {
     "name": "stdout",
     "output_type": "stream",
     "text": [
      "16\n",
      "5\n"
     ]
    }
   ],
   "source": [
    "square = lambda x: x ** 2\n",
    "print(square(4))  # 输出 16\n",
    "\n",
    "add = lambda a, b: a + b\n",
    "print(add(2, 3))  # 输出 5"
   ]
  },
  {
   "cell_type": "markdown",
   "id": "819f6b86-79a7-4643-8fa0-8678492ad440",
   "metadata": {},
   "source": [
    "## 生成器"
   ]
  },
  {
   "cell_type": "code",
   "execution_count": 12,
   "id": "66e5eac8-49ae-4bcf-b0e2-c1e0c572251b",
   "metadata": {},
   "outputs": [],
   "source": [
    "def squares(n = 10):\n",
    "    print(f\"Generating squares from 1 to {n ** 2}\")\n",
    "    for i in range(1, n + 1):\n",
    "        yield i ** 2"
   ]
  },
  {
   "cell_type": "markdown",
   "id": "5963c0fd-1bb3-4aa5-8fca-3d155d9b6491",
   "metadata": {},
   "source": [
    "调用这个生成器的时候，不会立刻执行任何代码："
   ]
  },
  {
   "cell_type": "code",
   "execution_count": 13,
   "id": "2081955e-2fdf-4ca3-8a72-0e0625e540b8",
   "metadata": {},
   "outputs": [],
   "source": [
    "gen = squares()"
   ]
  },
  {
   "cell_type": "code",
   "execution_count": 14,
   "id": "48be0383-5df1-4a54-a69c-3b91a2797a55",
   "metadata": {},
   "outputs": [
    {
     "data": {
      "text/plain": [
       "<generator object squares at 0x0000020394DDAFF0>"
      ]
     },
     "execution_count": 14,
     "metadata": {},
     "output_type": "execute_result"
    }
   ],
   "source": [
    "gen"
   ]
  },
  {
   "cell_type": "code",
   "execution_count": 15,
   "id": "63afe8c5-4333-4c7a-9ce9-d56de6c1ccbd",
   "metadata": {},
   "outputs": [
    {
     "name": "stdout",
     "output_type": "stream",
     "text": [
      "Generating squares from 1 to 100\n",
      "1 4 9 16 25 36 49 64 81 100 "
     ]
    }
   ],
   "source": [
    "for x in gen:\n",
    "    print(x, end = ' ')"
   ]
  },
  {
   "cell_type": "code",
   "execution_count": 16,
   "id": "ca24a125-b036-4ee7-9120-20d7d8c87d20",
   "metadata": {},
   "outputs": [
    {
     "name": "stdout",
     "output_type": "stream",
     "text": [
      "10\n",
      "12\n",
      "14\n",
      "16\n",
      "18\n",
      "20\n"
     ]
    }
   ],
   "source": [
    "import itertools\n",
    "\n",
    "for num in itertools.count(10, 2):\n",
    "    print(num)\n",
    "    if num >= 20:\n",
    "        break\n",
    "# 输出：10 12 14 16 18 20"
   ]
  },
  {
   "cell_type": "code",
   "execution_count": 17,
   "id": "a7d2fd9c-ebdb-481a-969e-bb610eed9595",
   "metadata": {},
   "outputs": [
    {
     "name": "stdout",
     "output_type": "stream",
     "text": [
      "A\n",
      "B\n",
      "C\n"
     ]
    }
   ],
   "source": [
    "for item in itertools.cycle(['A', 'B', 'C']):\n",
    "    print(item)\n",
    "    # 添加一个条件来终止循环，否则会无限运行\n",
    "    if item == 'C':\n",
    "        break\n",
    "# 输出：A B C"
   ]
  },
  {
   "cell_type": "code",
   "execution_count": 18,
   "id": "deebb01c-42d8-4eb1-b304-78d68c0b4682",
   "metadata": {},
   "outputs": [
    {
     "name": "stdout",
     "output_type": "stream",
     "text": [
      "5\n",
      "5\n",
      "5\n",
      "5\n"
     ]
    }
   ],
   "source": [
    "# 无限重复\n",
    "for num in itertools.repeat(5):\n",
    "    print(num)\n",
    "    break\n",
    "\n",
    "# 重复3次\n",
    "for num in itertools.repeat(5, 3):\n",
    "    print(num)\n",
    "# 输出：5 5 5"
   ]
  },
  {
   "cell_type": "markdown",
   "id": "2f531df2-5546-4f79-bed8-ea8f9c45472a",
   "metadata": {},
   "source": [
    "## 错误和异常处理"
   ]
  },
  {
   "cell_type": "markdown",
   "id": "1cf061d5-ba36-4bed-83f2-f75104a35fcd",
   "metadata": {},
   "source": [
    "语法为：\n",
    "```python\n",
    "\n",
    "try:\n",
    "    expr_01\n",
    "except:\n",
    "    expr_02\n",
    "```"
   ]
  },
  {
   "cell_type": "code",
   "execution_count": 19,
   "id": "2e0509a9-363f-4742-bd34-31be9835c08b",
   "metadata": {},
   "outputs": [
    {
     "name": "stdout",
     "output_type": "stream",
     "text": [
      "无法将该字符串转换为float格式的数据\n"
     ]
    }
   ],
   "source": [
    "string_01 = \"Hello World\"\n",
    "\n",
    "try:\n",
    "    float(string_01)\n",
    "except:\n",
    "    print(\"无法将该字符串转换为float格式的数据\")"
   ]
  },
  {
   "cell_type": "markdown",
   "id": "6d361ca5-5dc5-4e4c-8611-b025725d2273",
   "metadata": {},
   "source": [
    "有时候我们希望无论try是否捕捉到报错，我们都可以执行某一段代码："
   ]
  },
  {
   "cell_type": "code",
   "execution_count": 20,
   "id": "9f457a5b-7aec-452a-94c2-db23d75b2bc0",
   "metadata": {},
   "outputs": [
    {
     "name": "stdout",
     "output_type": "stream",
     "text": [
      "无法将该字符串转换为float格式的数据\n",
      "这一段代码一定会被执行\n"
     ]
    }
   ],
   "source": [
    "try:\n",
    "    float(string_01)\n",
    "except:\n",
    "    print(\"无法将该字符串转换为float格式的数据\")\n",
    "finally:\n",
    "    print(\"这一段代码一定会被执行\")"
   ]
  },
  {
   "cell_type": "markdown",
   "id": "046dd422-cbc3-4ca8-b1f8-54329fbd9187",
   "metadata": {},
   "source": [
    "# 文件和操作系统"
   ]
  },
  {
   "cell_type": "markdown",
   "id": "7b4c3a83-a217-4cca-bbd9-585c43db9cdc",
   "metadata": {},
   "source": [
    "首先是文件的路径："
   ]
  },
  {
   "cell_type": "code",
   "execution_count": 21,
   "id": "283ee812-9ed5-4266-ba55-1f60e05e89fb",
   "metadata": {},
   "outputs": [],
   "source": [
    "file_path = './../../examples/segismundo.txt'"
   ]
  },
  {
   "cell_type": "code",
   "execution_count": 22,
   "id": "b5c7b20c-12d8-4e58-8878-f701433d4fb2",
   "metadata": {},
   "outputs": [],
   "source": [
    "f = open(file_path, encoding = 'utf-8')"
   ]
  },
  {
   "cell_type": "markdown",
   "id": "aafe285a-fe6f-4919-9d82-daa6493a4774",
   "metadata": {},
   "source": [
    "不同平台读取文件的时候的默认编码不一定一致，所以这里最好传入 utf-8 参数。"
   ]
  },
  {
   "cell_type": "markdown",
   "id": "a38e17d1-a4e4-42d5-8a4e-b1b98ac9a1cf",
   "metadata": {},
   "source": [
    "默认情况之下，文件的导入是只读，也就是r的形式："
   ]
  },
  {
   "cell_type": "code",
   "execution_count": 23,
   "id": "d7aaeb2c-5389-49a3-a67a-1729bfe4ef62",
   "metadata": {},
   "outputs": [
    {
     "name": "stdout",
     "output_type": "stream",
     "text": [
      "Sueña el rico en su riqueza,\n",
      "\n",
      "que más cuidados le ofrece;\n",
      "\n",
      "\n",
      "\n",
      "sueña el pobre que padece\n",
      "\n",
      "su miseria y su pobreza;\n",
      "\n",
      "\n",
      "\n",
      "sueña el que a medrar empieza,\n",
      "\n",
      "sueña el que afana y pretende,\n",
      "\n",
      "sueña el que agravia y ofende,\n",
      "\n",
      "\n",
      "\n",
      "y en el mundo, en conclusión,\n",
      "\n",
      "todos sueñan lo que son,\n",
      "\n",
      "aunque ninguno lo entiende.\n",
      "\n",
      "\n",
      "\n"
     ]
    }
   ],
   "source": [
    "for line in f:\n",
    "    print(line)"
   ]
  },
  {
   "cell_type": "markdown",
   "id": "14f09334-f878-4096-b8a3-7746b46c695c",
   "metadata": {},
   "source": [
    "使用完之后一定要使用 .close() 来关闭文件对象，用来节约系统的资源。"
   ]
  },
  {
   "cell_type": "code",
   "execution_count": 24,
   "id": "fc536460-4288-48df-8525-20f79af944b8",
   "metadata": {},
   "outputs": [],
   "source": [
    "f.close()"
   ]
  },
  {
   "cell_type": "markdown",
   "id": "b76df39a-e345-41aa-acd9-755412687fe6",
   "metadata": {},
   "source": [
    "一个更简单的方法是使用 with 关键字来打开："
   ]
  },
  {
   "cell_type": "code",
   "execution_count": 26,
   "id": "ca7c378c-8e50-41be-bce7-4478e5c2e45d",
   "metadata": {},
   "outputs": [
    {
     "name": "stdout",
     "output_type": "stream",
     "text": [
      "['Sueña el rico en su riqueza,', 'que más cuidados le ofrece;', '', 'sueña el pobre que padece', 'su miseria y su pobreza;', '', 'sueña el que a medrar empieza,', 'sueña el que afana y pretende,', 'sueña el que agravia y ofende,', '', 'y en el mundo, en conclusión,', 'todos sueñan lo que son,', 'aunque ninguno lo entiende.', '']\n"
     ]
    }
   ],
   "source": [
    "with open(file_path, encoding = 'utf-8') as f:\n",
    "    lines= [x.rstrip() for x in f]\n",
    "    print(lines)"
   ]
  },
  {
   "cell_type": "markdown",
   "id": "e76ad325-d69a-4b0c-a411-d9612d0aa245",
   "metadata": {},
   "source": [
    "当代码被执行完退出了with语句的时候，自动关闭文件对象。"
   ]
  },
  {
   "cell_type": "markdown",
   "id": "65ee4db2-c858-499c-855a-17af6e40dbea",
   "metadata": {},
   "source": [
    "以下是各种文件模式的简要说明：\n",
    "\n",
    "- r：只读模式，默认模式，打开文件进行读取操作。\n",
    "- w：写入模式，打开文件进行写入操作，如果文件已存在则覆盖原有内容。\n",
    "- x：创建模式，创建新文件并打开进行写入操作，如果文件已存在则会报错。\n",
    "- a：追加模式，打开文件进行追加操作，在文件末尾添加内容，不会覆盖原有内容。\n",
    "- r+：读写模式，打开文件进行读取和写入操作。\n",
    "- b：二进制模式，以二进制格式打开文件，用于处理非文本文件，如图片、音频等。\n",
    "- t：文本模式，默认模式，以文本格式打开文件，用于处理文本文件。"
   ]
  },
  {
   "cell_type": "code",
   "execution_count": 29,
   "id": "df8977c8-b49e-4e39-9e6b-104846ced318",
   "metadata": {},
   "outputs": [
    {
     "name": "stdout",
     "output_type": "stream",
     "text": [
      "使用r模式读取的内容：\n",
      "这是使用w模式写入的初始内容。\n",
      "\n",
      "文件已存在，x模式无法覆盖。文件\n",
      "使用r+模式读取的内容：\n",
      "这是使用w模式写入的初始内容。\n",
      "这是使用a模式追加的内容。\n",
      "\n",
      "最终文件内容：\n",
      "这是使用t模式写入的文本内容。\n",
      "\n"
     ]
    }
   ],
   "source": [
    "# 创建example.txt文件并写入初始内容（使用w模式）\n",
    "with open(\"example.txt\", \"w\") as file:\n",
    "    file.write(\"这是使用w模式写入的初始内容。\\n\")\n",
    "\n",
    "# 使用r模式读取文件内容\n",
    "with open(\"example.txt\", \"r\") as file:\n",
    "    content = file.read()\n",
    "    print(\"使用r模式读取的内容：\")\n",
    "    print(content)\n",
    "\n",
    "# 使用x模式尝试创建新文件（如果文件已存在会报错）\n",
    "try:\n",
    "    with open(\"example.txt\", \"x\") as file:\n",
    "        file.write(\"这是使用x模式写入的内容。\\n\")\n",
    "except FileExistsError:\n",
    "    print(\"文件已存在，x模式无法覆盖。文件\")\n",
    "\n",
    "# 使用a模式追加内容到文件\n",
    "with open(\"example.txt\", \"a\") as file:\n",
    "    file.write(\"这是使用a模式追加的内容。\\n\")\n",
    "\n",
    "# 使用r+模式读取和写入文件\n",
    "with open(\"example.txt\", \"r+\") as file:\n",
    "    content = file.read()\n",
    "    print(\"使用r+模式读取的内容：\")\n",
    "    print(content)\n",
    "    file.seek(0, 2)  # 移动文件指针到文件末尾\n",
    "    file.write(\"这是使用r+模式追加的内容。\\n\")\n",
    "\n",
    "# 使用b模式以二进制方式写入文件\n",
    "with open(\"example.txt\", \"wb\") as file:\n",
    "    file.write(\"这是使用b模式写入的二进制内容。\\n\".encode('utf-8'))\n",
    "\n",
    "# 使用t模式以文本方式写入文件（默认模式，可省略）\n",
    "with open(\"example.txt\", \"wt\") as file:\n",
    "    file.write(\"这是使用t模式写入的文本内容。\\n\")\n",
    "\n",
    "# 最后读取文件内容并打印\n",
    "with open(\"example.txt\", \"r\") as file:\n",
    "    content = file.read()\n",
    "    print(\"最终文件内容：\")\n",
    "    print(content)"
   ]
  }
 ],
 "metadata": {
  "kernelspec": {
   "display_name": "Python 3 (ipykernel)",
   "language": "python",
   "name": "python3"
  },
  "language_info": {
   "codemirror_mode": {
    "name": "ipython",
    "version": 3
   },
   "file_extension": ".py",
   "mimetype": "text/x-python",
   "name": "python",
   "nbconvert_exporter": "python",
   "pygments_lexer": "ipython3",
   "version": "3.10.16"
  }
 },
 "nbformat": 4,
 "nbformat_minor": 5
}
