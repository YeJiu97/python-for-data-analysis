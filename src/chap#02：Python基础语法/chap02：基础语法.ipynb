{
 "cells": [
  {
   "cell_type": "code",
   "execution_count": 1,
   "id": "23982d7a-fe7e-4587-8470-819347896745",
   "metadata": {},
   "outputs": [
    {
     "name": "stdout",
     "output_type": "stream",
     "text": [
      "Hello World!\n"
     ]
    }
   ],
   "source": [
    "# 第一个python代码\n",
    "print(\"Hello World!\")"
   ]
  },
  {
   "cell_type": "code",
   "execution_count": 3,
   "id": "6fea94f0-f570-458b-9d07-1396331a4eda",
   "metadata": {},
   "outputs": [
    {
     "data": {
      "text/plain": [
       "'C:\\\\Users\\\\wangjun\\\\Desktop\\\\Github\\\\python-for-data-analysis\\\\src\\\\chap#02：Python基础语法'"
      ]
     },
     "execution_count": 3,
     "metadata": {},
     "output_type": "execute_result"
    }
   ],
   "source": [
    "# 当前的路径\n",
    "%pwd"
   ]
  },
  {
   "cell_type": "code",
   "execution_count": 4,
   "id": "1bb9466a-5c17-409b-94eb-ec0bdcdd7c7f",
   "metadata": {},
   "outputs": [],
   "source": [
    "an_apple = 27"
   ]
  },
  {
   "cell_type": "code",
   "execution_count": 5,
   "id": "c6114e47-064c-4ce0-ac13-f6d48246ec54",
   "metadata": {},
   "outputs": [
    {
     "data": {
      "text/plain": [
       "27"
      ]
     },
     "execution_count": 5,
     "metadata": {},
     "output_type": "execute_result"
    }
   ],
   "source": [
    "an_apple"
   ]
  },
  {
   "cell_type": "code",
   "execution_count": 6,
   "id": "f451c656-25f1-41ec-9df6-f5284bd35c53",
   "metadata": {},
   "outputs": [],
   "source": [
    "b= [1, 2, 3]"
   ]
  },
  {
   "cell_type": "code",
   "execution_count": 7,
   "id": "c932627a-fb67-459f-b813-fd33a4db325e",
   "metadata": {},
   "outputs": [
    {
     "data": {
      "text/plain": [
       "[1, 2, 3]"
      ]
     },
     "execution_count": 7,
     "metadata": {},
     "output_type": "execute_result"
    }
   ],
   "source": [
    "b"
   ]
  },
  {
   "cell_type": "markdown",
   "id": "4ecec53b-fcd5-4a78-b9fb-bd2726a1c1db",
   "metadata": {},
   "source": [
    "查看对象的情况："
   ]
  },
  {
   "cell_type": "code",
   "execution_count": 9,
   "id": "95b29e63-e472-4f60-adde-c90752982d4d",
   "metadata": {},
   "outputs": [],
   "source": [
    "a = [1, 2, 3, 4, 5]"
   ]
  },
  {
   "cell_type": "code",
   "execution_count": 10,
   "id": "81847b18-a500-441a-82ad-db9e375fac58",
   "metadata": {},
   "outputs": [
    {
     "data": {
      "text/plain": [
       "\u001b[1;31mType:\u001b[0m        list\n",
       "\u001b[1;31mString form:\u001b[0m [1, 2, 3, 4, 5]\n",
       "\u001b[1;31mLength:\u001b[0m      5\n",
       "\u001b[1;31mDocstring:\u001b[0m  \n",
       "Built-in mutable sequence.\n",
       "\n",
       "If no argument is given, the constructor creates a new empty list.\n",
       "The argument must be an iterable if specified."
      ]
     },
     "metadata": {},
     "output_type": "display_data"
    }
   ],
   "source": [
    "a?"
   ]
  },
  {
   "cell_type": "code",
   "execution_count": 11,
   "id": "3a7cc6b6-4f06-4ac6-9615-0b9139c7d7da",
   "metadata": {},
   "outputs": [
    {
     "data": {
      "text/plain": [
       "\u001b[1;31mDocstring:\u001b[0m\n",
       "print(value, ..., sep=' ', end='\\n', file=sys.stdout, flush=False)\n",
       "\n",
       "Prints the values to a stream, or to sys.stdout by default.\n",
       "Optional keyword arguments:\n",
       "file:  a file-like object (stream); defaults to the current sys.stdout.\n",
       "sep:   string inserted between values, default a space.\n",
       "end:   string appended after the last value, default a newline.\n",
       "flush: whether to forcibly flush the stream.\n",
       "\u001b[1;31mType:\u001b[0m      builtin_function_or_method"
      ]
     },
     "metadata": {},
     "output_type": "display_data"
    }
   ],
   "source": [
    "print?"
   ]
  },
  {
   "cell_type": "markdown",
   "id": "4217ee06-1639-440a-a9e0-444eb297875b",
   "metadata": {},
   "source": [
    "如果是函数或者实例方法："
   ]
  },
  {
   "cell_type": "code",
   "execution_count": 12,
   "id": "6f8fdb4a-4fec-44c9-b7ee-b939885b77ce",
   "metadata": {},
   "outputs": [],
   "source": [
    "def add_numbers(a, b):\n",
    "    \"\"\"\n",
    "    add 2 numbers together\n",
    "\n",
    "    returns\n",
    "    the_sum : type of arguments\n",
    "    \"\"\"\n",
    "\n",
    "    return a + b"
   ]
  },
  {
   "cell_type": "code",
   "execution_count": 13,
   "id": "df0d791c-b629-44ec-8b72-103d6639f494",
   "metadata": {},
   "outputs": [
    {
     "data": {
      "text/plain": [
       "\u001b[1;31mSignature:\u001b[0m \u001b[0madd_numbers\u001b[0m\u001b[1;33m(\u001b[0m\u001b[0ma\u001b[0m\u001b[1;33m,\u001b[0m \u001b[0mb\u001b[0m\u001b[1;33m)\u001b[0m\u001b[1;33m\u001b[0m\u001b[1;33m\u001b[0m\u001b[0m\n",
       "\u001b[1;31mDocstring:\u001b[0m\n",
       "add 2 numbers together\n",
       "\n",
       "returns\n",
       "the_sum : type of arguments\n",
       "\u001b[1;31mFile:\u001b[0m      c:\\users\\wangjun\\appdata\\local\\temp\\ipykernel_756\\2629072389.py\n",
       "\u001b[1;31mType:\u001b[0m      function"
      ]
     },
     "metadata": {},
     "output_type": "display_data"
    }
   ],
   "source": [
    "# 然后使用?来查看\n",
    "add_numbers?"
   ]
  },
  {
   "cell_type": "markdown",
   "id": "5e77e205-9126-4772-b913-a6513d41f6aa",
   "metadata": {},
   "source": [
    "还可以使用**来进行查看："
   ]
  },
  {
   "cell_type": "code",
   "execution_count": 15,
   "id": "1f0995c3-f94d-4079-aaa7-bb5ee6a714fe",
   "metadata": {},
   "outputs": [
    {
     "data": {
      "text/plain": [
       "np.__loader__\n",
       "np.load\n",
       "np.loadtxt"
      ]
     },
     "metadata": {},
     "output_type": "display_data"
    }
   ],
   "source": [
    "import numpy as np\n",
    "\n",
    "np.*load*?"
   ]
  },
  {
   "cell_type": "markdown",
   "id": "c4562269-dd7e-4c32-9cf5-d3b88c3c9e9d",
   "metadata": {},
   "source": [
    "字符与通配符结合可以匹配所有通配符表达式的命名。"
   ]
  },
  {
   "cell_type": "code",
   "execution_count": 16,
   "id": "c5e1db2c-cff1-402f-a6c8-3a2ab542370d",
   "metadata": {},
   "outputs": [],
   "source": [
    "# 不好阅读的情况\n",
    "a = 1; b = 3; c = 3"
   ]
  },
  {
   "cell_type": "code",
   "execution_count": 17,
   "id": "27cd4921-9ac3-4b79-8976-4d8a6fdce18e",
   "metadata": {},
   "outputs": [
    {
     "data": {
      "text/plain": [
       "(1, 3, 3)"
      ]
     },
     "execution_count": 17,
     "metadata": {},
     "output_type": "execute_result"
    }
   ],
   "source": [
    "a, b, c"
   ]
  },
  {
   "cell_type": "markdown",
   "id": "e8792e54-6af3-4c9f-9fa7-d3c55394c1cb",
   "metadata": {},
   "source": [
    "注释："
   ]
  },
  {
   "cell_type": "code",
   "execution_count": 20,
   "id": "41ef47a7-9225-493c-9bec-eb7b04b377b2",
   "metadata": {},
   "outputs": [
    {
     "name": "stdout",
     "output_type": "stream",
     "text": [
      "Hello World!\n"
     ]
    }
   ],
   "source": [
    "# 这是一种注释\n",
    "print(\"Hello World!\")  # 这是另一种注释"
   ]
  },
  {
   "cell_type": "markdown",
   "id": "51cc461a-a8f5-4b8a-8489-c1793fae61d9",
   "metadata": {},
   "source": [
    "python中一些皆对象："
   ]
  },
  {
   "cell_type": "code",
   "execution_count": 22,
   "id": "c48e67cd-b711-41b7-b9c8-c6f72a3dcdb4",
   "metadata": {},
   "outputs": [],
   "source": [
    "a = [1, 2, 3, 4, 5, 6]"
   ]
  },
  {
   "cell_type": "code",
   "execution_count": 23,
   "id": "53844c8b-532d-42c5-9c86-7d33446aef74",
   "metadata": {},
   "outputs": [],
   "source": [
    "b = a"
   ]
  },
  {
   "cell_type": "code",
   "execution_count": 24,
   "id": "d313466d-7250-4bbd-beeb-79cf8f471c48",
   "metadata": {},
   "outputs": [
    {
     "data": {
      "text/plain": [
       "[1, 2, 3, 4, 5, 6]"
      ]
     },
     "execution_count": 24,
     "metadata": {},
     "output_type": "execute_result"
    }
   ],
   "source": [
    "b"
   ]
  },
  {
   "cell_type": "code",
   "execution_count": 25,
   "id": "927086c0-8fea-4ebe-94ee-a5258a82562c",
   "metadata": {},
   "outputs": [],
   "source": [
    "a.append(999)"
   ]
  },
  {
   "cell_type": "code",
   "execution_count": 26,
   "id": "d7bc81e9-e43b-4eb1-b6bb-dc520fee8c99",
   "metadata": {},
   "outputs": [
    {
     "data": {
      "text/plain": [
       "[1, 2, 3, 4, 5, 6, 999]"
      ]
     },
     "execution_count": 26,
     "metadata": {},
     "output_type": "execute_result"
    }
   ],
   "source": [
    "b"
   ]
  },
  {
   "cell_type": "markdown",
   "id": "00ad81a2-49c6-476d-ad47-464a27166d64",
   "metadata": {},
   "source": [
    "这是因为a和b指向了同一个对象："
   ]
  },
  {
   "cell_type": "code",
   "execution_count": 27,
   "id": "0948a048-43fc-4f63-9e12-1c263a1082f5",
   "metadata": {},
   "outputs": [
    {
     "data": {
      "text/plain": [
       "1834013149952"
      ]
     },
     "execution_count": 27,
     "metadata": {},
     "output_type": "execute_result"
    }
   ],
   "source": [
    "id(a)"
   ]
  },
  {
   "cell_type": "code",
   "execution_count": 28,
   "id": "9ed9b655-77cc-47d0-9d80-3a44d235fa8d",
   "metadata": {},
   "outputs": [
    {
     "data": {
      "text/plain": [
       "1834013149952"
      ]
     },
     "execution_count": 28,
     "metadata": {},
     "output_type": "execute_result"
    }
   ],
   "source": [
    "id(b)"
   ]
  },
  {
   "cell_type": "markdown",
   "id": "55ef7ef4-a3b5-4a01-b365-a7fd47db062b",
   "metadata": {},
   "source": [
    "这里有一个非常需要注意的地方：当你创建了一个人函数来引用对象,那么原始对象的内容会被修改。"
   ]
  },
  {
   "cell_type": "code",
   "execution_count": 29,
   "id": "36d2edbe-c641-40b0-a7f5-72eb331bc4a9",
   "metadata": {},
   "outputs": [],
   "source": [
    "def add_ele(list_1, new_ele):\n",
    "    list_1.append(new_ele)"
   ]
  },
  {
   "cell_type": "code",
   "execution_count": 31,
   "id": "d103e0aa-1a4c-4b82-ad6f-573722786fdb",
   "metadata": {},
   "outputs": [
    {
     "data": {
      "text/plain": [
       "[1, 2, 3]"
      ]
     },
     "execution_count": 31,
     "metadata": {},
     "output_type": "execute_result"
    }
   ],
   "source": [
    "data = [1, 2, 3]\n",
    "\n",
    "data"
   ]
  },
  {
   "cell_type": "code",
   "execution_count": 32,
   "id": "a1bfb4f7-2d0c-49b2-943f-015b3dd2d43f",
   "metadata": {},
   "outputs": [],
   "source": [
    "add_ele(data, -999)"
   ]
  },
  {
   "cell_type": "code",
   "execution_count": 33,
   "id": "851abef7-9c32-421f-a8e1-7743ce3bd599",
   "metadata": {},
   "outputs": [
    {
     "data": {
      "text/plain": [
       "[1, 2, 3, -999]"
      ]
     },
     "execution_count": 33,
     "metadata": {},
     "output_type": "execute_result"
    }
   ],
   "source": [
    "data"
   ]
  },
  {
   "cell_type": "markdown",
   "id": "04e02069-2d68-4e7d-ad01-135d8bc9a54b",
   "metadata": {},
   "source": [
    "这是因为上面的函数在使用的时候,绑定了被传入的list_1对象,所以在内部进行修改的时候对原始的变量进行了修改。"
   ]
  },
  {
   "cell_type": "code",
   "execution_count": 46,
   "id": "16ef7f0f-21c4-4214-983b-9c123af3f012",
   "metadata": {},
   "outputs": [],
   "source": [
    "def add_new_ele(old_list, new_ele):\n",
    "    new_list = old_list.copy()\n",
    "    new_list.append(new_ele)\n",
    "    return new_list"
   ]
  },
  {
   "cell_type": "code",
   "execution_count": 47,
   "id": "4a308532-c703-4500-88f6-883be5c45ec8",
   "metadata": {},
   "outputs": [
    {
     "data": {
      "text/plain": [
       "[1, 2, 3]"
      ]
     },
     "execution_count": 47,
     "metadata": {},
     "output_type": "execute_result"
    }
   ],
   "source": [
    "old_list = [1, 2, 3]\n",
    "old_list"
   ]
  },
  {
   "cell_type": "code",
   "execution_count": 48,
   "id": "c48d206a-e2cb-497b-8e37-f79231236a5e",
   "metadata": {},
   "outputs": [],
   "source": [
    "new_list = add_new_ele(old_list, -999)"
   ]
  },
  {
   "cell_type": "code",
   "execution_count": 49,
   "id": "f32eb005-0976-4dbe-99a1-5519f8ca2104",
   "metadata": {},
   "outputs": [
    {
     "data": {
      "text/plain": [
       "[1, 2, 3, -999]"
      ]
     },
     "execution_count": 49,
     "metadata": {},
     "output_type": "execute_result"
    }
   ],
   "source": [
    "new_list"
   ]
  },
  {
   "cell_type": "code",
   "execution_count": 50,
   "id": "be759c0e-ec5f-4b4a-b9b7-26d565783071",
   "metadata": {},
   "outputs": [
    {
     "data": {
      "text/plain": [
       "[1, 2, 3]"
      ]
     },
     "execution_count": 50,
     "metadata": {},
     "output_type": "execute_result"
    }
   ],
   "source": [
    "old_list"
   ]
  },
  {
   "cell_type": "markdown",
   "id": "ec6fca33-2aba-41c1-bf15-9616db34c405",
   "metadata": {},
   "source": [
    "这里人为的指定了进行复制的方法,而不是直接进行引用,所以可以不修改原先的对象。"
   ]
  },
  {
   "cell_type": "code",
   "execution_count": 51,
   "id": "8a1bfb24-907a-4145-8318-2ab4b2878cbe",
   "metadata": {},
   "outputs": [],
   "source": [
    "def add_new_ele_2(old_list, new_ele):\n",
    "    new_list = old_list.append(new_ele)\n",
    "    return new_list"
   ]
  },
  {
   "cell_type": "markdown",
   "id": "28e560ee-3919-429a-9ea2-b8761941671c",
   "metadata": {},
   "source": [
    "上述代码会返回一个None,因为.append()是原地操作,不会返回任何值。"
   ]
  },
  {
   "cell_type": "code",
   "execution_count": 52,
   "id": "5687c0bb-05c9-469d-b8af-16bf270c4791",
   "metadata": {},
   "outputs": [
    {
     "data": {
      "text/plain": [
       "[1, 2, 3]"
      ]
     },
     "execution_count": 52,
     "metadata": {},
     "output_type": "execute_result"
    }
   ],
   "source": [
    "old_list"
   ]
  },
  {
   "cell_type": "code",
   "execution_count": 53,
   "id": "5ae922be-fee1-4f18-b151-a502ecb07ea7",
   "metadata": {},
   "outputs": [],
   "source": [
    "new_ele = 10"
   ]
  },
  {
   "cell_type": "code",
   "execution_count": 54,
   "id": "6875f6f4-c75c-47f7-b335-760bf340d281",
   "metadata": {},
   "outputs": [],
   "source": [
    "new_list = add_new_ele_2(old_list, new_ele)"
   ]
  },
  {
   "cell_type": "code",
   "execution_count": 56,
   "id": "518809a8-6b71-4f39-8b45-bfbda2959a62",
   "metadata": {},
   "outputs": [
    {
     "name": "stdout",
     "output_type": "stream",
     "text": [
      "None\n"
     ]
    }
   ],
   "source": [
    "print(new_list)"
   ]
  },
  {
   "cell_type": "code",
   "execution_count": null,
   "id": "a2e36e70-ba9d-4aea-be52-d2f1e478b87e",
   "metadata": {},
   "outputs": [],
   "source": []
  },
  {
   "cell_type": "code",
   "execution_count": 57,
   "id": "98e48154-2bb3-47ac-b55e-49f5039dc94e",
   "metadata": {},
   "outputs": [],
   "source": [
    "def add_new_ele_2(old_list, new_ele):\n",
    "    old_list.append(new_ele)\n",
    "    new_list = old_list\n",
    "    return new_list"
   ]
  },
  {
   "cell_type": "code",
   "execution_count": 58,
   "id": "c6120170-11c5-4978-87b8-2942682c98d2",
   "metadata": {},
   "outputs": [
    {
     "data": {
      "text/plain": [
       "[1, 2, 3, 10]"
      ]
     },
     "execution_count": 58,
     "metadata": {},
     "output_type": "execute_result"
    }
   ],
   "source": [
    "old_list"
   ]
  },
  {
   "cell_type": "code",
   "execution_count": 59,
   "id": "84fd0015-192a-49d2-933f-cb55ba74bf47",
   "metadata": {},
   "outputs": [],
   "source": [
    "new_ele = 999"
   ]
  },
  {
   "cell_type": "code",
   "execution_count": 60,
   "id": "8720688e-0a94-4fc2-83d8-1beb354de173",
   "metadata": {},
   "outputs": [],
   "source": [
    "new_list = add_new_ele_2(old_list, new_ele)"
   ]
  },
  {
   "cell_type": "code",
   "execution_count": 61,
   "id": "0dea5ebb-e46e-4153-94c0-a20596bb87ae",
   "metadata": {},
   "outputs": [
    {
     "data": {
      "text/plain": [
       "[1, 2, 3, 10, 999]"
      ]
     },
     "execution_count": 61,
     "metadata": {},
     "output_type": "execute_result"
    }
   ],
   "source": [
    "new_list"
   ]
  },
  {
   "cell_type": "markdown",
   "id": "904145ab-d629-4bc2-8a34-0dc56e81bfb7",
   "metadata": {},
   "source": [
    "知晓对象的类型非常的重要。"
   ]
  },
  {
   "cell_type": "code",
   "execution_count": 62,
   "id": "6065a615-5ca7-4d4f-9c81-10071f0a6687",
   "metadata": {},
   "outputs": [],
   "source": [
    "a = 5"
   ]
  },
  {
   "cell_type": "code",
   "execution_count": 65,
   "id": "a2790392-0607-4f27-9137-4bf6b4fa5021",
   "metadata": {},
   "outputs": [
    {
     "data": {
      "text/plain": [
       "True"
      ]
     },
     "execution_count": 65,
     "metadata": {},
     "output_type": "execute_result"
    }
   ],
   "source": [
    "isinstance(a, int)"
   ]
  },
  {
   "cell_type": "code",
   "execution_count": 66,
   "id": "0aff230d-97a2-4777-b73a-36fb3e2d0e3d",
   "metadata": {},
   "outputs": [
    {
     "data": {
      "text/plain": [
       "False"
      ]
     },
     "execution_count": 66,
     "metadata": {},
     "output_type": "execute_result"
    }
   ],
   "source": [
    "isinstance(a, float)"
   ]
  },
  {
   "cell_type": "code",
   "execution_count": 67,
   "id": "4494426e-94b8-4ab3-be62-0513179748d8",
   "metadata": {},
   "outputs": [
    {
     "data": {
      "text/plain": [
       "int"
      ]
     },
     "execution_count": 67,
     "metadata": {},
     "output_type": "execute_result"
    }
   ],
   "source": [
    "type(a)"
   ]
  },
  {
   "cell_type": "markdown",
   "id": "511838fd-f3ad-47db-b515-9dbdf36e2660",
   "metadata": {},
   "source": [
    "判断是否是可以迭代的："
   ]
  },
  {
   "cell_type": "code",
   "execution_count": 68,
   "id": "0efbab71-5d22-43f0-b414-1a185dc70878",
   "metadata": {},
   "outputs": [],
   "source": [
    "def isiterable(obj):\n",
    "    try:\n",
    "        iter(obj)\n",
    "        return True\n",
    "    except TypeError:\n",
    "        return False"
   ]
  },
  {
   "cell_type": "code",
   "execution_count": 69,
   "id": "5839ba42-5401-4c45-9e82-e9ac119a3ac7",
   "metadata": {},
   "outputs": [
    {
     "data": {
      "text/plain": [
       "True"
      ]
     },
     "execution_count": 69,
     "metadata": {},
     "output_type": "execute_result"
    }
   ],
   "source": [
    "isiterable(\"a string\")"
   ]
  },
  {
   "cell_type": "code",
   "execution_count": 70,
   "id": "992891b1-5d98-4498-bb82-86cd65d4c283",
   "metadata": {},
   "outputs": [
    {
     "data": {
      "text/plain": [
       "False"
      ]
     },
     "execution_count": 70,
     "metadata": {},
     "output_type": "execute_result"
    }
   ],
   "source": [
    "isiterable(1234)"
   ]
  },
  {
   "cell_type": "markdown",
   "id": "8af55c60-13f3-4180-985a-de9be5a43750",
   "metadata": {},
   "source": [
    "关于None,None是Python的null,是只存在None对象的实例。"
   ]
  },
  {
   "cell_type": "code",
   "execution_count": 71,
   "id": "ac329e19-e738-4c45-974a-b3adca188055",
   "metadata": {},
   "outputs": [],
   "source": [
    "None"
   ]
  },
  {
   "cell_type": "code",
   "execution_count": 72,
   "id": "b2b470af-1fdf-412d-92cf-cf4809616452",
   "metadata": {},
   "outputs": [],
   "source": [
    "a = None"
   ]
  },
  {
   "cell_type": "code",
   "execution_count": 73,
   "id": "d734ac7e-8bbf-4f38-995b-b5e2b25236f4",
   "metadata": {},
   "outputs": [
    {
     "name": "stdout",
     "output_type": "stream",
     "text": [
      "None\n"
     ]
    }
   ],
   "source": [
    "print(a)"
   ]
  },
  {
   "cell_type": "code",
   "execution_count": 74,
   "id": "004df31a-03ae-458e-b20d-e7d200460eb0",
   "metadata": {},
   "outputs": [
    {
     "data": {
      "text/plain": [
       "True"
      ]
     },
     "execution_count": 74,
     "metadata": {},
     "output_type": "execute_result"
    }
   ],
   "source": [
    "a == None"
   ]
  },
  {
   "cell_type": "code",
   "execution_count": 75,
   "id": "6dfedb15-8fd3-4122-a3e6-015d994c8a9a",
   "metadata": {},
   "outputs": [
    {
     "data": {
      "text/plain": [
       "True"
      ]
     },
     "execution_count": 75,
     "metadata": {},
     "output_type": "execute_result"
    }
   ],
   "source": [
    "a is None"
   ]
  },
  {
   "cell_type": "code",
   "execution_count": 76,
   "id": "216ed47b-2b9d-4137-98c4-31644fd7eeb9",
   "metadata": {},
   "outputs": [
    {
     "data": {
      "text/plain": [
       "False"
      ]
     },
     "execution_count": 76,
     "metadata": {},
     "output_type": "execute_result"
    }
   ],
   "source": [
    "a is not None"
   ]
  },
  {
   "cell_type": "code",
   "execution_count": 81,
   "id": "07137fb1-cb47-4aac-bac1-837e55e34264",
   "metadata": {},
   "outputs": [],
   "source": [
    "# 函数的参数中使用None\n",
    "def add_mul_numer(a, b, c = None):\n",
    "\n",
    "    result = a + b\n",
    "\n",
    "    if c is not None:\n",
    "        return result + c\n",
    "\n",
    "    return result"
   ]
  },
  {
   "cell_type": "code",
   "execution_count": 82,
   "id": "2b93f4ee-218b-421a-adb2-9a81989f38f6",
   "metadata": {},
   "outputs": [],
   "source": [
    "sum_num = add_mul_numer(10, 15)"
   ]
  },
  {
   "cell_type": "code",
   "execution_count": 83,
   "id": "6384cc17-0ab5-4a2e-bb88-ba62c1752349",
   "metadata": {},
   "outputs": [
    {
     "data": {
      "text/plain": [
       "25"
      ]
     },
     "execution_count": 83,
     "metadata": {},
     "output_type": "execute_result"
    }
   ],
   "source": [
    "sum_num"
   ]
  },
  {
   "cell_type": "markdown",
   "id": "ab49bda9-a7b1-4b80-9e8c-506ae006ac58",
   "metadata": {},
   "source": [
    "可变对象："
   ]
  },
  {
   "cell_type": "code",
   "execution_count": 77,
   "id": "7208ee9f-4f0e-48e8-9af4-8a06d0fb52f0",
   "metadata": {},
   "outputs": [
    {
     "data": {
      "text/plain": [
       "[1, 2, 999, 4, 5]"
      ]
     },
     "execution_count": 77,
     "metadata": {},
     "output_type": "execute_result"
    }
   ],
   "source": [
    "a = [1, 2, 3, 4, 5]\n",
    "\n",
    "a[2] = 999\n",
    "\n",
    "a"
   ]
  },
  {
   "cell_type": "markdown",
   "id": "1deda707-2d88-4ff9-85fc-d1970e749f6b",
   "metadata": {},
   "source": [
    "不可变对象："
   ]
  },
  {
   "cell_type": "code",
   "execution_count": 78,
   "id": "f60fd465-9e39-4678-8576-ac9a9f84dbe0",
   "metadata": {},
   "outputs": [
    {
     "name": "stdout",
     "output_type": "stream",
     "text": [
      "string是不可变对象\n"
     ]
    }
   ],
   "source": [
    "b = \"string\"\n",
    "\n",
    "try:\n",
    "    b[1] = 9\n",
    "except:\n",
    "    print(\"string是不可变对象\")"
   ]
  },
  {
   "cell_type": "markdown",
   "id": "be8a1acb-552f-4db5-a9ff-7b5f8408f83e",
   "metadata": {},
   "source": [
    "关于//："
   ]
  },
  {
   "cell_type": "code",
   "execution_count": 79,
   "id": "3f5e49c3-e508-4772-8130-6c8afdf0b36c",
   "metadata": {},
   "outputs": [
    {
     "data": {
      "text/plain": [
       "1"
      ]
     },
     "execution_count": 79,
     "metadata": {},
     "output_type": "execute_result"
    }
   ],
   "source": [
    "3 // 2"
   ]
  },
  {
   "cell_type": "code",
   "execution_count": 80,
   "id": "f2376771-52c6-463a-ad46-7ce4521ca75d",
   "metadata": {},
   "outputs": [
    {
     "data": {
      "text/plain": [
       "-2"
      ]
     },
     "execution_count": 80,
     "metadata": {},
     "output_type": "execute_result"
    }
   ],
   "source": [
    "-3 // 2"
   ]
  },
  {
   "cell_type": "markdown",
   "id": "95e53d16-eba6-4d63-9a4c-4acbcaf76bd1",
   "metadata": {},
   "source": [
    "// 的逻辑为向下取整,而不是单纯的丢掉小数部分。"
   ]
  },
  {
   "cell_type": "markdown",
   "id": "47f51ae9-9931-4159-aeb1-3017714c5b27",
   "metadata": {},
   "source": [
    "datetime模块内置了一些函数。"
   ]
  },
  {
   "cell_type": "code",
   "execution_count": 84,
   "id": "e47ad7e5-a969-499b-8445-add4cde79abc",
   "metadata": {},
   "outputs": [],
   "source": [
    "from datetime import datetime, date, time"
   ]
  },
  {
   "cell_type": "code",
   "execution_count": 85,
   "id": "d4a15e75-5092-4469-ab1a-53654d6bf7be",
   "metadata": {},
   "outputs": [],
   "source": [
    "dt = datetime(2011, 10, 29, 20, 30, 21)"
   ]
  },
  {
   "cell_type": "code",
   "execution_count": 86,
   "id": "754141e8-e03c-4761-880d-f3eebf9050ad",
   "metadata": {},
   "outputs": [
    {
     "data": {
      "text/plain": [
       "datetime.datetime(2011, 10, 29, 20, 30, 21)"
      ]
     },
     "execution_count": 86,
     "metadata": {},
     "output_type": "execute_result"
    }
   ],
   "source": [
    "dt"
   ]
  },
  {
   "cell_type": "code",
   "execution_count": 87,
   "id": "d9892b25-b2cf-495c-a9ad-653e0ac92573",
   "metadata": {},
   "outputs": [
    {
     "data": {
      "text/plain": [
       "2011"
      ]
     },
     "execution_count": 87,
     "metadata": {},
     "output_type": "execute_result"
    }
   ],
   "source": [
    "dt.year"
   ]
  },
  {
   "cell_type": "code",
   "execution_count": 88,
   "id": "374a749f-9510-497f-bb74-0d8f41f4b0f7",
   "metadata": {},
   "outputs": [
    {
     "data": {
      "text/plain": [
       "10"
      ]
     },
     "execution_count": 88,
     "metadata": {},
     "output_type": "execute_result"
    }
   ],
   "source": [
    "dt.month"
   ]
  },
  {
   "cell_type": "code",
   "execution_count": 89,
   "id": "84cb7e33-b04a-4fb1-b787-17f3ba38a19f",
   "metadata": {},
   "outputs": [
    {
     "data": {
      "text/plain": [
       "29"
      ]
     },
     "execution_count": 89,
     "metadata": {},
     "output_type": "execute_result"
    }
   ],
   "source": [
    "dt.day"
   ]
  },
  {
   "cell_type": "code",
   "execution_count": 90,
   "id": "e6175cdc-fc63-46ad-8e67-8180398c69b4",
   "metadata": {},
   "outputs": [
    {
     "data": {
      "text/plain": [
       "20"
      ]
     },
     "execution_count": 90,
     "metadata": {},
     "output_type": "execute_result"
    }
   ],
   "source": [
    "dt.hour"
   ]
  },
  {
   "cell_type": "code",
   "execution_count": 91,
   "id": "868b9a94-8f15-4cd8-a77a-d04995989fec",
   "metadata": {},
   "outputs": [
    {
     "data": {
      "text/plain": [
       "30"
      ]
     },
     "execution_count": 91,
     "metadata": {},
     "output_type": "execute_result"
    }
   ],
   "source": [
    "dt.minute"
   ]
  },
  {
   "cell_type": "code",
   "execution_count": 92,
   "id": "8e6150cb-eb93-4bc4-8371-69a277419a5c",
   "metadata": {},
   "outputs": [
    {
     "data": {
      "text/plain": [
       "21"
      ]
     },
     "execution_count": 92,
     "metadata": {},
     "output_type": "execute_result"
    }
   ],
   "source": [
    "dt.second"
   ]
  },
  {
   "cell_type": "markdown",
   "id": "ab417b0c-dd70-424b-bc34-c26a84757ec0",
   "metadata": {},
   "source": [
    "continue关键字可以直接进入到下一个循环。"
   ]
  },
  {
   "cell_type": "code",
   "execution_count": 95,
   "id": "f7774f8a-a189-44ad-9baf-350be0155856",
   "metadata": {},
   "outputs": [],
   "source": [
    "check_list = [1, 2, 3, None, 4, 5, None, 7]"
   ]
  },
  {
   "cell_type": "code",
   "execution_count": 96,
   "id": "67fc08d2-ea8b-42b5-92f7-48877cddc631",
   "metadata": {},
   "outputs": [
    {
     "data": {
      "text/plain": [
       "[1, 2, 3, None, 4, 5, None, 7]"
      ]
     },
     "execution_count": 96,
     "metadata": {},
     "output_type": "execute_result"
    }
   ],
   "source": [
    "check_list"
   ]
  },
  {
   "cell_type": "code",
   "execution_count": 98,
   "id": "6cfa02ba-1be3-446b-9bc5-922741096532",
   "metadata": {},
   "outputs": [
    {
     "name": "stdout",
     "output_type": "stream",
     "text": [
      "1\n",
      "1 a\n",
      "2\n",
      "2 a\n",
      "3\n",
      "3 a\n",
      "4\n",
      "4 a\n",
      "5\n",
      "5 a\n",
      "7\n",
      "7 a\n"
     ]
    }
   ],
   "source": [
    "for var in check_list:\n",
    "    if var == None:\n",
    "        continue\n",
    "    else:\n",
    "        print(var)\n",
    "    print(var, \"a\")"
   ]
  }
 ],
 "metadata": {
  "kernelspec": {
   "display_name": "Python 3 (ipykernel)",
   "language": "python",
   "name": "python3"
  },
  "language_info": {
   "codemirror_mode": {
    "name": "ipython",
    "version": 3
   },
   "file_extension": ".py",
   "mimetype": "text/x-python",
   "name": "python",
   "nbconvert_exporter": "python",
   "pygments_lexer": "ipython3",
   "version": "3.10.16"
  }
 },
 "nbformat": 4,
 "nbformat_minor": 5
}
